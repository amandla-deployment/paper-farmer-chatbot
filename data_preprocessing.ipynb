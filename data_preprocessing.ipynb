{
 "cells": [
  {
   "cell_type": "code",
   "execution_count": 1,
   "metadata": {},
   "outputs": [],
   "source": [
    "import polars as pl\n",
    "pl.Config.set_tbl_rows(1000)  # or whatever number of rows you want to see\n",
    "import pathlib\n",
    "import os\n",
    "import psutil\n",
    "import gc"
   ]
  },
  {
   "cell_type": "code",
   "execution_count": 2,
   "metadata": {},
   "outputs": [],
   "source": [
    "def clear_memory(df_to_remove=None):\n",
    "    \"\"\"Clear memory and print memory usage statistics\"\"\"\n",
    "    try:\n",
    "        # Print initial state\n",
    "        print(\"\\nInitial memory state:\")\n",
    "        process = psutil.Process(os.getpid())\n",
    "        initial_memory_mb = process.memory_info().rss / 1024 / 1024\n",
    "        print(f\"Current Memory Usage: {initial_memory_mb:.2f} MB ({initial_memory_mb/1024:.2f} GB)\")\n",
    "        \n",
    "        # Remove specific DataFrame if provided\n",
    "        if df_to_remove is not None:\n",
    "            if isinstance(df_to_remove, list):\n",
    "                # If a list of DataFrames is provided\n",
    "                for df in df_to_remove:\n",
    "                    del df\n",
    "            else:\n",
    "                # If a single DataFrame is provided\n",
    "                del df_to_remove\n",
    "        \n",
    "        # Force garbage collection\n",
    "        gc.collect()\n",
    "        \n",
    "        # Get new memory info\n",
    "        new_memory_mb = process.memory_info().rss / 1024 / 1024\n",
    "        memory_freed = initial_memory_mb - new_memory_mb\n",
    "        \n",
    "        print(f\"\\nCurrent Memory Usage: {new_memory_mb:.2f} MB ({new_memory_mb/1024:.2f} GB)\")\n",
    "        print(f\"Available System Memory: {psutil.virtual_memory().available / 1024 / 1024 / 1024:.2f} GB\")\n",
    "        print(f\"Memory Utilization: {psutil.virtual_memory().percent}%\")\n",
    "        \n",
    "        if memory_freed > 0:\n",
    "            print(f\"Memory freed: {memory_freed:.2f} MB\")\n",
    "            \n",
    "    except Exception as e:\n",
    "        print(f\"Memory cleanup failed: {e}\")"
   ]
  },
  {
   "cell_type": "code",
   "execution_count": 3,
   "metadata": {},
   "outputs": [],
   "source": [
    "def main():\n",
    "    \"\"\"Main function to load and process the data\"\"\"\n",
    "    try:\n",
    "        print(\"Initial memory state:\")\n",
    "        clear_memory()\n",
    "        \n",
    "        print(\"\\nLoading CSV file...\")\n",
    "        # Read CSV with updated schema_overrides parameter\n",
    "        master_df = pl.read_csv('dataset/original_dataset/kcc_dataset.csv',\n",
    "            schema_overrides={\n",
    "                'Year': pl.Int32,\n",
    "                'Month': pl.Int32,\n",
    "                'Day': pl.Int32,\n",
    "                'Crop': pl.Utf8,\n",
    "                'DistrictName': pl.Utf8,\n",
    "                'QueryType': pl.Utf8,\n",
    "                'Season': pl.Utf8,\n",
    "                'Sector': pl.Utf8,\n",
    "                'StateName': pl.Utf8,\n",
    "                'QueryText': pl.Utf8,\n",
    "                'KccAns': pl.Utf8,\n",
    "                'Category': pl.Utf8,\n",
    "                'BlockName': pl.Utf8\n",
    "            },\n",
    "            low_memory=True\n",
    "        ).drop(['BlockName', 'Category'])\n",
    "        \n",
    "        print(\"\\nAfter loading CSV:\")\n",
    "        clear_memory()\n",
    "        \n",
    "        return master_df\n",
    "        \n",
    "    except Exception as e:\n",
    "        print(f\"Error in data processing: {e}\")\n",
    "        return None\n",
    "\n"
   ]
  },
  {
   "cell_type": "code",
   "execution_count": 4,
   "metadata": {},
   "outputs": [
    {
     "name": "stdout",
     "output_type": "stream",
     "text": [
      "\n",
      "Initial memory state:\n",
      "Current Memory Usage: 75.12 MB (0.07 GB)\n",
      "\n",
      "Current Memory Usage: 75.12 MB (0.07 GB)\n",
      "Available System Memory: 11.00 GB\n",
      "Memory Utilization: 28.9%\n"
     ]
    }
   ],
   "source": [
    "# First clear any existing DataFrames\n",
    "clear_memory()"
   ]
  },
  {
   "cell_type": "code",
   "execution_count": 5,
   "metadata": {},
   "outputs": [
    {
     "name": "stdout",
     "output_type": "stream",
     "text": [
      "Initial memory state:\n",
      "\n",
      "Initial memory state:\n",
      "Current Memory Usage: 75.12 MB (0.07 GB)\n",
      "\n",
      "Current Memory Usage: 75.12 MB (0.07 GB)\n",
      "Available System Memory: 11.04 GB\n",
      "Memory Utilization: 28.6%\n",
      "\n",
      "Loading CSV file...\n",
      "\n",
      "After loading CSV:\n",
      "\n",
      "Initial memory state:\n",
      "Current Memory Usage: 10392.81 MB (10.15 GB)\n",
      "\n",
      "Current Memory Usage: 10435.81 MB (10.19 GB)\n",
      "Available System Memory: 4.72 GB\n",
      "Memory Utilization: 69.5%\n"
     ]
    }
   ],
   "source": [
    "# Usage examples:\n",
    "# Load the data\n",
    "master_df = main()"
   ]
  },
  {
   "cell_type": "code",
   "execution_count": 6,
   "metadata": {},
   "outputs": [
    {
     "data": {
      "text/plain": [
       "(41987874, 11)"
      ]
     },
     "execution_count": 6,
     "metadata": {},
     "output_type": "execute_result"
    }
   ],
   "source": [
    "master_df.shape"
   ]
  },
  {
   "cell_type": "code",
   "execution_count": 7,
   "metadata": {},
   "outputs": [
    {
     "name": "stdout",
     "output_type": "stream",
     "text": [
      "\n",
      "Initial memory state:\n",
      "Current Memory Usage: 12652.44 MB (12.36 GB)\n",
      "\n",
      "Current Memory Usage: 12652.44 MB (12.36 GB)\n",
      "Available System Memory: 0.66 GB\n",
      "Memory Utilization: 95.7%\n",
      "(37694993, 11)\n"
     ]
    }
   ],
   "source": [
    "# FILTER CONDITION: Filter master_df to keep only QueryType with string values\n",
    "master_df_filtered_QueryType = master_df.filter(~pl.col('QueryType').str.contains(r'\\d'))\n",
    "clear_memory(df_to_remove=master_df)  # Remove the original large DataFrame\n",
    "\n",
    "print(master_df_filtered_QueryType.shape)"
   ]
  },
  {
   "cell_type": "code",
   "execution_count": null,
   "metadata": {},
   "outputs": [],
   "source": [
    "clear_memory(df_to_remove=master_df)"
   ]
  },
  {
   "cell_type": "code",
   "execution_count": null,
   "metadata": {},
   "outputs": [],
   "source": [
    "# FILTER CONDITION: Filter master_df to keep only QueryType with string values\n",
    "master_df_filtered_Crop = master_df_filtered_QueryType.filter(~pl.col('Crop').str.contains(r'\\d'))\n",
    "\n",
    "print(master_df_filtered_Crop.shape)"
   ]
  },
  {
   "cell_type": "code",
   "execution_count": null,
   "metadata": {},
   "outputs": [],
   "source": []
  },
  {
   "cell_type": "code",
   "execution_count": null,
   "metadata": {},
   "outputs": [],
   "source": []
  },
  {
   "cell_type": "code",
   "execution_count": null,
   "metadata": {},
   "outputs": [],
   "source": []
  },
  {
   "cell_type": "code",
   "execution_count": null,
   "metadata": {},
   "outputs": [],
   "source": [
    "master_df_filtered_QueryType.head()"
   ]
  },
  {
   "cell_type": "code",
   "execution_count": null,
   "metadata": {},
   "outputs": [],
   "source": [
    "master_df_filtered_QueryType['Crop'].unique()"
   ]
  },
  {
   "cell_type": "code",
   "execution_count": null,
   "metadata": {},
   "outputs": [],
   "source": []
  },
  {
   "cell_type": "code",
   "execution_count": null,
   "metadata": {},
   "outputs": [],
   "source": [
    "result = (master_df_filtered_QueryType\n",
    "    .select(pl.col('QueryType'))\n",
    "    .group_by('QueryType')\n",
    "    .agg(pl.count('QueryType').alias('count'))\n",
    "    .with_columns([\n",
    "        (pl.col('count') / pl.col('count').sum() * 100).round(2).alias('percentage')\n",
    "    ])\n",
    "    .sort('count', descending=True)\n",
    ")"
   ]
  },
  {
   "cell_type": "code",
   "execution_count": null,
   "metadata": {},
   "outputs": [],
   "source": []
  },
  {
   "cell_type": "code",
   "execution_count": null,
   "metadata": {},
   "outputs": [],
   "source": []
  },
  {
   "cell_type": "code",
   "execution_count": null,
   "metadata": {},
   "outputs": [],
   "source": []
  },
  {
   "cell_type": "code",
   "execution_count": 2,
   "metadata": {},
   "outputs": [],
   "source": [
    "def clear_memory():\n",
    "    \"\"\"Clear memory and print memory usage statistics\"\"\"\n",
    "    try:\n",
    "        # Force garbage collection\n",
    "        gc.collect()\n",
    "        \n",
    "        # Get current process\n",
    "        process = psutil.Process(os.getpid())\n",
    "        \n",
    "        # Get memory info\n",
    "        memory_mb = process.memory_info().rss / 1024 / 1024\n",
    "        \n",
    "        # Print memory info with more context\n",
    "        print(f\"\\nCurrent Memory Usage: {memory_mb:.2f} MB ({memory_mb/1024:.2f} GB)\")\n",
    "        print(f\"Available System Memory: {psutil.virtual_memory().available / 1024 / 1024 / 1024:.2f} GB\")\n",
    "        print(f\"Memory Utilization: {psutil.virtual_memory().percent}%\")\n",
    "        \n",
    "        # Force garbage collection again\n",
    "        gc.collect()\n",
    "        \n",
    "        # Get new memory info\n",
    "        new_memory_mb = process.memory_info().rss / 1024 / 1024\n",
    "        memory_freed = memory_mb - new_memory_mb\n",
    "        \n",
    "        if memory_freed > 0:\n",
    "            print(f\"Memory freed by garbage collection: {memory_freed:.2f} MB\")\n",
    "            \n",
    "    except Exception as e:\n",
    "        print(f\"Memory cleanup failed: {e}\")"
   ]
  },
  {
   "cell_type": "code",
   "execution_count": 3,
   "metadata": {},
   "outputs": [],
   "source": [
    "def main():\n",
    "    \"\"\"Main function to load and process the data\"\"\"\n",
    "    try:\n",
    "        print(\"Initial memory state:\")\n",
    "        clear_memory()\n",
    "        \n",
    "        print(\"\\nLoading CSV file...\")\n",
    "        # Read CSV with updated schema_overrides parameter\n",
    "        master_df = pl.read_csv('dataset/original_dataset/kcc_dataset.csv',\n",
    "            schema_overrides={\n",
    "                'Year': pl.Int32,\n",
    "                'Month': pl.Int32,\n",
    "                'Day': pl.Int32,\n",
    "                'Crop': pl.Utf8,\n",
    "                'DistrictName': pl.Utf8,\n",
    "                'QueryType': pl.Utf8,\n",
    "                'Season': pl.Utf8,\n",
    "                'Sector': pl.Utf8,\n",
    "                'StateName': pl.Utf8,\n",
    "                'QueryText': pl.Utf8,\n",
    "                'KccAns': pl.Utf8,\n",
    "                'Category': pl.Utf8,\n",
    "                'BlockName': pl.Utf8\n",
    "            },\n",
    "            low_memory=True\n",
    "        ).drop(['BlockName', 'Category'])\n",
    "        \n",
    "        print(\"\\nAfter loading CSV:\")\n",
    "        clear_memory()\n",
    "        \n",
    "        return master_df\n",
    "        \n",
    "    except Exception as e:\n",
    "        print(f\"Error in data processing: {e}\")\n",
    "        return None"
   ]
  },
  {
   "cell_type": "code",
   "execution_count": null,
   "metadata": {},
   "outputs": [],
   "source": [
    "master_df = main()"
   ]
  },
  {
   "cell_type": "code",
   "execution_count": null,
   "metadata": {},
   "outputs": [],
   "source": [
    "master_df.shape"
   ]
  },
  {
   "cell_type": "code",
   "execution_count": null,
   "metadata": {},
   "outputs": [],
   "source": [
    "# FILTER CONDITION: Filter master_df to keep only QueryType with string values\n",
    "master_df_filtered_QueryType = master_df.filter(~pl.col('QueryType').str.contains(r'\\d'))\n",
    "\n",
    "print(master_df_filtered_QueryType.shape)"
   ]
  },
  {
   "cell_type": "code",
   "execution_count": null,
   "metadata": {},
   "outputs": [],
   "source": [
    "# Verify the results\n",
    "result = (master_df_filtered_QueryType\n",
    "    .select(pl.col('QueryType'))\n",
    "    .group_by('QueryType')\n",
    "    .agg(pl.count('QueryType').alias('count'))\n",
    "    .with_columns([\n",
    "        (pl.col('count') / pl.col('count').sum() * 100).round(2).alias('percentage')\n",
    "    ])\n",
    "    .sort('count', descending=True)\n",
    ")"
   ]
  },
  {
   "cell_type": "code",
   "execution_count": 11,
   "metadata": {},
   "outputs": [],
   "source": [
    "import plotly.graph_objects as go\n",
    "\n",
    "# Get top 10 rows\n",
    "top_10 = master_df_filtered_QueryType.head(10).to_pandas()\n",
    "\n",
    "# # Calculate the sum of percentages for remaining rows (Others)\n",
    "# others_percentage = master_df_filtered_QueryType.slice(10).select('percentage').sum().item()\n",
    "\n",
    "# # Create labels and values for the chart\n",
    "# labels = list(top_10['QueryType']) + ['Others']\n",
    "# values = list(top_10['percentage']) + [others_percentage]\n",
    "\n",
    "# # Create the donut chart\n",
    "# fig = go.Figure(data=[go.Pie(\n",
    "#     labels=labels,\n",
    "#     values=values,\n",
    "#     hole=0.4,\n",
    "#     textinfo='label+percent',\n",
    "#     textposition='outside',  # Changed from 'inside' to 'outside'\n",
    "#     showlegend=False,  # Changed to False to remove the legend\n",
    "#     direction='clockwise',\n",
    "#     sort=False\n",
    "# )])\n",
    "\n",
    "# # Update layout\n",
    "# fig.update_layout(\n",
    "#     title={\n",
    "#         'text': 'What Indian Farmers Query on',\n",
    "#         'y':0.95,\n",
    "#         'x':0.5,\n",
    "#         'xanchor': 'center',\n",
    "#         'yanchor': 'top'\n",
    "#     },\n",
    "#     width=1200,\n",
    "#     height=800,\n",
    "#     font=dict(size=14)\n",
    "# )\n",
    "\n",
    "# fig.show()"
   ]
  },
  {
   "cell_type": "code",
   "execution_count": null,
   "metadata": {},
   "outputs": [],
   "source": [
    "top_10"
   ]
  },
  {
   "cell_type": "code",
   "execution_count": null,
   "metadata": {},
   "outputs": [],
   "source": [
    "master_df_filtered_QueryType.head()"
   ]
  },
  {
   "cell_type": "code",
   "execution_count": null,
   "metadata": {},
   "outputs": [],
   "source": [
    "((master_df.shape[0] - master_df_filtered_QueryType.shape[0])/(master_df.shape[0]))*199"
   ]
  },
  {
   "cell_type": "code",
   "execution_count": null,
   "metadata": {},
   "outputs": [],
   "source": [
    "master_df.head()"
   ]
  },
  {
   "cell_type": "code",
   "execution_count": 6,
   "metadata": {},
   "outputs": [],
   "source": [
    "all_India_QueryType = (master_df\n",
    "    .select(pl.col('QueryType'))\n",
    "    # Add a filter to exclude QueryType containing numbers\n",
    "    .filter(~pl.col('QueryType').str.contains(r'\\d'))\n",
    "    .group_by('QueryType')\n",
    "    .agg(pl.count('QueryType').alias('count'))\n",
    "    .with_columns([\n",
    "        (pl.col('count') / pl.col('count').sum() * 100).round(2).alias('percentage')\n",
    "    ])\n",
    "    .sort('count', descending=True)\n",
    ")"
   ]
  },
  {
   "cell_type": "code",
   "execution_count": null,
   "metadata": {},
   "outputs": [],
   "source": [
    "import plotly.graph_objects as go\n",
    "\n",
    "# Get top 10 rows\n",
    "top_10 = all_India_QueryType.head(10).to_pandas()\n",
    "\n",
    "# Calculate the sum of percentages for remaining rows (Others)\n",
    "others_percentage = all_India_QueryType.slice(10).select('percentage').sum().item()\n",
    "\n",
    "# Create labels and values for the chart\n",
    "labels = list(top_10['QueryType']) + ['Others']\n",
    "values = list(top_10['percentage']) + [others_percentage]\n",
    "\n",
    "# Create the donut chart\n",
    "fig = go.Figure(data=[go.Pie(\n",
    "    labels=labels,\n",
    "    values=values,\n",
    "    hole=0.4,\n",
    "    textinfo='label+percent',\n",
    "    textposition='outside',  # Changed from 'inside' to 'outside'\n",
    "    showlegend=False,  # Changed to False to remove the legend\n",
    "    direction='clockwise',\n",
    "    sort=False\n",
    ")])\n",
    "\n",
    "# Update layout\n",
    "fig.update_layout(\n",
    "    title={\n",
    "        'text': 'Distribution of Query Types (Top 10)',\n",
    "        'y':0.95,\n",
    "        'x':0.5,\n",
    "        'xanchor': 'center',\n",
    "        'yanchor': 'top'\n",
    "    },\n",
    "    width=1200,\n",
    "    height=800,\n",
    "    font=dict(size=14)\n",
    ")\n",
    "\n",
    "fig.show()"
   ]
  },
  {
   "cell_type": "code",
   "execution_count": null,
   "metadata": {},
   "outputs": [],
   "source": [
    "values"
   ]
  },
  {
   "cell_type": "code",
   "execution_count": null,
   "metadata": {},
   "outputs": [],
   "source": []
  },
  {
   "cell_type": "code",
   "execution_count": null,
   "metadata": {},
   "outputs": [],
   "source": []
  },
  {
   "cell_type": "code",
   "execution_count": null,
   "metadata": {},
   "outputs": [],
   "source": [
    "import plotly.graph_objects as go\n",
    "\n",
    "# Get top 10 rows\n",
    "top_10 = all_India_QueryType.head(10).to_pandas()\n",
    "\n",
    "# Calculate the sum of percentages for remaining rows (Others)\n",
    "others_percentage = all_India_QueryType.slice(10).select('percentage').sum().item()\n",
    "\n",
    "# Create labels and values for the chart - multiply values by 100\n",
    "labels = list(top_10['QueryType']) + ['Others']\n",
    "values = [x * 100 for x in list(top_10['percentage'])] + [others_percentage * 100]\n",
    "\n",
    "# Create the donut chart\n",
    "fig = go.Figure(data=[go.Pie(\n",
    "    labels=labels, \n",
    "    values=values,\n",
    "    hole=0.4,\n",
    "    textinfo='label+percent',\n",
    "    textposition='inside',\n",
    "    texttemplate='%{label}<br>%{percent:.1f}%',\n",
    "    showlegend=True,\n",
    "    direction='clockwise',\n",
    "    sort=False,\n",
    "    pull=[0.1] + [0] * len(labels[1:])\n",
    ")])\n",
    "\n",
    "# Update layout\n",
    "fig.update_layout(\n",
    "    title={\n",
    "        'text': 'Distribution of Query Types (Top 10)',\n",
    "        'y':0.95,\n",
    "        'x':0.5,\n",
    "        'xanchor': 'center',\n",
    "        'yanchor': 'top'\n",
    "    },\n",
    "    width=900,\n",
    "    height=700,\n",
    "    font=dict(size=12),\n",
    "    legend=dict(\n",
    "        orientation=\"h\",\n",
    "        yanchor=\"bottom\",\n",
    "        y=-0.1,\n",
    "        xanchor=\"center\",\n",
    "        x=0.5\n",
    "    )\n",
    ")\n",
    "\n",
    "fig.show()"
   ]
  },
  {
   "cell_type": "code",
   "execution_count": null,
   "metadata": {},
   "outputs": [],
   "source": [
    "all_India_QueryType"
   ]
  },
  {
   "cell_type": "code",
   "execution_count": null,
   "metadata": {},
   "outputs": [],
   "source": []
  },
  {
   "cell_type": "code",
   "execution_count": null,
   "metadata": {},
   "outputs": [],
   "source": []
  },
  {
   "cell_type": "code",
   "execution_count": null,
   "metadata": {},
   "outputs": [],
   "source": [
    "#!/usr/bin/env python3\n",
    "\n",
    "# Import all required libraries\n",
    "import polars as pl\n",
    "import pathlib\n",
    "import os\n",
    "import psutil\n",
    "import gc\n",
    "\n",
    "def clear_memory():\n",
    "    \"\"\"Clear memory and print memory usage statistics\"\"\"\n",
    "    try:\n",
    "        # Force garbage collection\n",
    "        gc.collect()\n",
    "        \n",
    "        # Get current process\n",
    "        process = psutil.Process(os.getpid())\n",
    "        \n",
    "        # Get memory info\n",
    "        memory_mb = process.memory_info().rss / 1024 / 1024\n",
    "        \n",
    "        # Print memory info with more context\n",
    "        print(f\"\\nCurrent Memory Usage: {memory_mb:.2f} MB ({memory_mb/1024:.2f} GB)\")\n",
    "        print(f\"Available System Memory: {psutil.virtual_memory().available / 1024 / 1024 / 1024:.2f} GB\")\n",
    "        print(f\"Memory Utilization: {psutil.virtual_memory().percent}%\")\n",
    "            \n",
    "        # Force garbage collection again\n",
    "        gc.collect()\n",
    "        \n",
    "        # Get new memory info\n",
    "        new_memory_mb = process.memory_info().rss / 1024 / 1024\n",
    "        memory_freed = memory_mb - new_memory_mb\n",
    "        \n",
    "        if memory_freed > 0:\n",
    "            print(f\"Memory freed by garbage collection: {memory_freed:.2f} MB\")\n",
    "        \n",
    "    except Exception as e:\n",
    "        print(f\"Memory cleanup failed: {e}\")\n",
    "\n",
    "def main():\n",
    "    \"\"\"Main function to load and process the data\"\"\"\n",
    "    try:\n",
    "        print(\"Initial memory state:\")\n",
    "        clear_memory()\n",
    "        \n",
    "        print(\"\\nLoading CSV file...\")\n",
    "        # Read CSV with updated schema_overrides parameter\n",
    "        master_df = pl.read_csv('dataset/original_dataset/kcc_dataset.csv',\n",
    "            schema_overrides={\n",
    "                'Year': pl.Int32,\n",
    "                'Month': pl.Int32,\n",
    "                'Day': pl.Int32,\n",
    "                'Crop': pl.Utf8,\n",
    "                'DistrictName': pl.Utf8,\n",
    "                'QueryType': pl.Utf8,\n",
    "                'Season': pl.Utf8,\n",
    "                'Sector': pl.Utf8,\n",
    "                'StateName': pl.Utf8,\n",
    "                'QueryText': pl.Utf8,\n",
    "                'KccAns': pl.Utf8,\n",
    "                'Category': pl.Utf8,\n",
    "                'BlockName': pl.Utf8\n",
    "            },\n",
    "            low_memory=True\n",
    "        ).drop(['BlockName', 'Category'])\n",
    "        \n",
    "        print(\"\\nAfter loading CSV:\")\n",
    "        clear_memory()\n",
    "        \n",
    "        return master_df\n",
    "        \n",
    "    except Exception as e:\n",
    "        print(f\"Error in data processing: {e}\")\n",
    "        return None\n",
    "\n",
    "if __name__ == \"__main__\":\n",
    "    result_df = main()"
   ]
  },
  {
   "cell_type": "code",
   "execution_count": null,
   "metadata": {},
   "outputs": [],
   "source": [
    "master_df.head()"
   ]
  },
  {
   "cell_type": "code",
   "execution_count": null,
   "metadata": {},
   "outputs": [],
   "source": [
    "master_df['QueryType']].value_counts()"
   ]
  },
  {
   "cell_type": "code",
   "execution_count": null,
   "metadata": {},
   "outputs": [],
   "source": []
  },
  {
   "cell_type": "code",
   "execution_count": null,
   "metadata": {},
   "outputs": [],
   "source": []
  },
  {
   "cell_type": "code",
   "execution_count": null,
   "metadata": {},
   "outputs": [],
   "source": [
    "master_df_cropInsurance.head()"
   ]
  },
  {
   "cell_type": "code",
   "execution_count": null,
   "metadata": {},
   "outputs": [],
   "source": [
    "import polars as pl\n",
    "import plotly.express as px\n",
    "import plotly.graph_objects as go\n",
    "\n",
    "# Create a date column using pl.date\n",
    "master_df_cropInsurance = master_df_cropInsurance.with_columns([\n",
    "    pl.date(\n",
    "        year=pl.col('Year'),\n",
    "        month=pl.col('Month'),\n",
    "        day=1\n",
    "    ).alias('Date')\n",
    "])\n",
    "\n",
    "# Group by date and state, count occurrences\n",
    "monthly_state_counts = (\n",
    "    master_df_cropInsurance\n",
    "    .group_by(['Date', 'StateName'])\n",
    "    .agg(\n",
    "        pl.count().alias('count')\n",
    "    )\n",
    "    .sort('Date')\n",
    ")\n",
    "\n",
    "# Convert to pandas for easier plotting with plotly\n",
    "monthly_state_df = monthly_state_counts.to_pandas()\n",
    "\n",
    "# Create line plot\n",
    "fig = px.line(\n",
    "    monthly_state_df,\n",
    "    x='Date',\n",
    "    y='count',\n",
    "    color='StateName',\n",
    "    title='Crop Insurance Queries by State Over Time',\n",
    "    labels={\n",
    "        'Date': 'Month-Year',\n",
    "        'count': 'Number of Queries',\n",
    "        'StateName': 'State'\n",
    "    }\n",
    ")\n",
    "\n",
    "# Customize layout\n",
    "fig.update_layout(\n",
    "    xaxis_title=\"Month-Year\",\n",
    "    yaxis_title=\"Number of Queries\",\n",
    "    legend_title=\"State\",\n",
    "    hovermode='x unified',\n",
    "    template='plotly_white',\n",
    "    # Improve readability\n",
    "    xaxis=dict(\n",
    "        tickangle=45,\n",
    "        tickformat='%b %Y'\n",
    "    ),\n",
    "    # Add some margins for better display\n",
    "    margin=dict(t=50, b=100)\n",
    ")\n",
    "\n",
    "# Add hover data\n",
    "fig.update_traces(\n",
    "    hovertemplate='<b>%{y}</b> queries<br>%{x|%B %Y}<extra></extra>'\n",
    ")\n",
    "\n",
    "# Show the plot\n",
    "fig.show()\n",
    "\n",
    "# Optional: Save the plot\n",
    "# fig.write_html(\"crop_insurance_queries.html\")"
   ]
  },
  {
   "cell_type": "code",
   "execution_count": null,
   "metadata": {},
   "outputs": [],
   "source": []
  },
  {
   "cell_type": "code",
   "execution_count": null,
   "metadata": {},
   "outputs": [],
   "source": []
  },
  {
   "cell_type": "code",
   "execution_count": null,
   "metadata": {},
   "outputs": [],
   "source": []
  },
  {
   "cell_type": "code",
   "execution_count": null,
   "metadata": {},
   "outputs": [],
   "source": [
    "wb_no_weather = master_df.filter(\n",
    "    (pl.col('QueryType') != 'Weather') & \n",
    "    (~pl.col('QueryType').str.contains(r'^[0-9]+$'))\n",
    ")\n",
    "\n",
    "# Verify the results\n",
    "result = (master_df\n",
    "    .select(pl.col('QueryType'))\n",
    "    .group_by('QueryType')\n",
    "    .agg(pl.count('QueryType').alias('count'))\n",
    "    .with_columns([\n",
    "        (pl.col('count') / pl.col('count').sum() * 100).round(2).alias('percentage')\n",
    "    ])\n",
    "    .sort('count', descending=True)\n",
    ")"
   ]
  },
  {
   "cell_type": "code",
   "execution_count": null,
   "metadata": {},
   "outputs": [],
   "source": [
    "master_df['QueryType'].value_counts()"
   ]
  },
  {
   "cell_type": "code",
   "execution_count": null,
   "metadata": {},
   "outputs": [],
   "source": []
  },
  {
   "cell_type": "code",
   "execution_count": null,
   "metadata": {},
   "outputs": [],
   "source": []
  },
  {
   "cell_type": "code",
   "execution_count": null,
   "metadata": {},
   "outputs": [],
   "source": [
    "state_list = list(master_df['StateName'].unique())\n",
    "\n",
    "print(state_list)"
   ]
  },
  {
   "cell_type": "code",
   "execution_count": 11,
   "metadata": {},
   "outputs": [],
   "source": [
    "wb = master_df.filter(master_df['StateName'] == 'WEST BENGAL')"
   ]
  },
  {
   "cell_type": "code",
   "execution_count": null,
   "metadata": {},
   "outputs": [],
   "source": [
    "wb.shape"
   ]
  },
  {
   "cell_type": "code",
   "execution_count": null,
   "metadata": {},
   "outputs": [],
   "source": [
    "wb.head()"
   ]
  },
  {
   "cell_type": "code",
   "execution_count": 7,
   "metadata": {},
   "outputs": [],
   "source": [
    "import polars as pl\n",
    "pl.Config.set_tbl_rows(100)  # or whatever number of rows you want to see\n",
    "\n",
    "# First, let's create a filter that identifies if a string is numeric\n",
    "wb_no_weather = master_df.filter(\n",
    "    (pl.col('QueryType') != 'Weather') & \n",
    "    (~pl.col('QueryType').str.contains(r'^[0-9]+$'))\n",
    ")\n",
    "\n",
    "# Verify the results\n",
    "result = (wb_no_weather\n",
    "    .select(pl.col('QueryType'))\n",
    "    .group_by('QueryType')\n",
    "    .agg(pl.count('QueryType').alias('count'))\n",
    "    .with_columns([\n",
    "        (pl.col('count') / pl.col('count').sum() * 100).round(2).alias('percentage')\n",
    "    ])\n",
    "    .sort('count', descending=True)\n",
    ")"
   ]
  },
  {
   "cell_type": "code",
   "execution_count": null,
   "metadata": {},
   "outputs": [],
   "source": [
    "result"
   ]
  },
  {
   "cell_type": "code",
   "execution_count": null,
   "metadata": {},
   "outputs": [],
   "source": [
    "import polars as pl\n",
    "pl.Config.set_tbl_rows(100)  # or whatever number of rows you want to see\n",
    "\n",
    "# Then run your query\n",
    "result = (wb_no_weather\n",
    " .select(pl.col('QueryType'))\n",
    " .group_by('QueryType')\n",
    " .agg(pl.count('QueryType').alias('count'))\n",
    " .with_columns([\n",
    "     (pl.col('count') / pl.col('count').sum() * 100).round(2).alias('percentage')\n",
    " ])\n",
    " .sort('count', descending=True))\n",
    "\n",
    "result  # Display the result"
   ]
  },
  {
   "cell_type": "code",
   "execution_count": null,
   "metadata": {},
   "outputs": [],
   "source": [
    "list(result['QueryType'])"
   ]
  },
  {
   "cell_type": "code",
   "execution_count": null,
   "metadata": {},
   "outputs": [],
   "source": []
  }
 ],
 "metadata": {
  "kernelspec": {
   "display_name": "mtn",
   "language": "python",
   "name": "python3"
  },
  "language_info": {
   "codemirror_mode": {
    "name": "ipython",
    "version": 3
   },
   "file_extension": ".py",
   "mimetype": "text/x-python",
   "name": "python",
   "nbconvert_exporter": "python",
   "pygments_lexer": "ipython3",
   "version": "3.10.14"
  }
 },
 "nbformat": 4,
 "nbformat_minor": 2
}
