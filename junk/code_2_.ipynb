{
 "cells": [
  {
   "cell_type": "code",
   "execution_count": 3,
   "metadata": {},
   "outputs": [
    {
     "name": "stdout",
     "output_type": "stream",
     "text": [
      "/home/manimala/Documents/satyakama/paper-farmer-chatbot\n"
     ]
    }
   ],
   "source": [
    "import pathlib as Path \n",
    "print(Path.Path.cwd())"
   ]
  },
  {
   "cell_type": "code",
   "execution_count": 4,
   "metadata": {},
   "outputs": [
    {
     "name": "stdout",
     "output_type": "stream",
     "text": [
      "Testing Polars version: 1.21.0\n",
      "Basic DataFrame creation works: shape: (3, 1)\n",
      "┌─────┐\n",
      "│ a   │\n",
      "│ --- │\n",
      "│ i64 │\n",
      "╞═════╡\n",
      "│ 1   │\n",
      "│ 2   │\n",
      "│ 3   │\n",
      "└─────┘\n"
     ]
    }
   ],
   "source": [
    "import polars as pl\n",
    "\n",
    "# Test if we can create a simple DataFrame\n",
    "try:\n",
    "    print(\"Testing Polars version:\", pl.__version__)\n",
    "    test_df = pl.DataFrame({\"a\": [1, 2, 3]})\n",
    "    print(\"Basic DataFrame creation works:\", test_df)\n",
    "except Exception as e:\n",
    "    print(\"Error:\", e)"
   ]
  },
  {
   "cell_type": "code",
   "execution_count": 10,
   "metadata": {},
   "outputs": [
    {
     "name": "stdout",
     "output_type": "stream",
     "text": [
      "Basic read_csv works\n"
     ]
    }
   ],
   "source": [
    "import polars as pl\n",
    "\n",
    "try:\n",
    "    df = pl.read_csv('/home/manimala/Documents/satyakama/paper-farmer-chatbot/dataset/processed_dataset/India_level_data_filtered.csv')\n",
    "    print(\"Basic read_csv works\")\n",
    "except Exception as e:\n",
    "    print(\"Error:\", e)"
   ]
  },
  {
   "cell_type": "code",
   "execution_count": 11,
   "metadata": {},
   "outputs": [
    {
     "name": "stdout",
     "output_type": "stream",
     "text": [
      "Error in data processing: 'module' object is not callable\n"
     ]
    }
   ],
   "source": [
    "import polars as pl\n",
    "import psutil\n",
    "import gc\n",
    "import os\n",
    "from typing import Optional, Union, Dict, List\n",
    "\n",
    "def clear_memory(df_to_remove: Optional[Union[pl.DataFrame, List[pl.DataFrame]]] = None) -> None:\n",
    "    \"\"\"\n",
    "    Clear memory and print memory usage statistics\n",
    "    \"\"\"\n",
    "    try:\n",
    "        # Print initial state\n",
    "        print(\"\\nInitial memory state:\")\n",
    "        process = psutil.Process(os.getpid())\n",
    "        initial_memory_mb = process.memory_info().rss / 1024 / 1024\n",
    "        print(f\"Current Memory Usage: {initial_memory_mb:.2f} MB ({initial_memory_mb/1024:.2f} GB)\")\n",
    "        \n",
    "        # Remove specific DataFrame if provided\n",
    "        if df_to_remove is not None:\n",
    "            if isinstance(df_to_remove, list):\n",
    "                for df in df_to_remove:\n",
    "                    # Get the variable name\n",
    "                    name = [var_name for var_name, var_val in globals().items() if var_val is df]\n",
    "                    if name:\n",
    "                        globals().pop(name[0], None)\n",
    "                    del df\n",
    "            else:\n",
    "                name = [var_name for var_name, var_val in globals().items() if var_val is df_to_remove]\n",
    "                if name:\n",
    "                    globals().pop(name[0], None)\n",
    "                del df_to_remove\n",
    "                \n",
    "        # Force garbage collection\n",
    "        gc.collect()\n",
    "        \n",
    "        # Get new memory info\n",
    "        new_memory_mb = process.memory_info().rss / 1024 / 1024\n",
    "        memory_freed = initial_memory_mb - new_memory_mb\n",
    "        print(f\"\\nCurrent Memory Usage: {new_memory_mb:.2f} MB ({new_memory_mb/1024:.2f} GB)\")\n",
    "        print(f\"Available System Memory: {psutil.virtual_memory().available / 1024 / 1024 / 1024:.2f} GB\")\n",
    "        print(f\"Memory Utilization: {psutil.virtual_memory().percent}%\")\n",
    "        if memory_freed > 0:\n",
    "            print(f\"Memory freed: {memory_freed:.2f} MB\")\n",
    "    except Exception as e:\n",
    "        print(f\"Memory cleanup failed: {e}\")\n",
    "\n",
    "def load_data(\n",
    "    file_path: str,\n",
    "    schema_overrides: Optional[Dict] = None,\n",
    "    columns_to_drop: Optional[List[str]] = None,\n",
    "    low_memory: bool = True\n",
    ") -> Optional[pl.DataFrame]:\n",
    "    \"\"\"\n",
    "    Load and process a CSV file using Polars\n",
    "    \"\"\"\n",
    "    try:\n",
    "        # Ensure file exists\n",
    "        if not Path(file_path).exists():\n",
    "            raise FileNotFoundError(f\"File not found: {file_path}\")\n",
    "            \n",
    "        print(\"Initial memory state:\")\n",
    "        clear_memory()\n",
    "        \n",
    "        print(\"\\nLoading CSV file...\")\n",
    "        # Read CSV with provided schema overrides\n",
    "        df = pl.read_csv(\n",
    "            file_path,\n",
    "            schema_overrides=schema_overrides or {},\n",
    "            low_memory=low_memory\n",
    "        )\n",
    "        \n",
    "        # Drop specified columns if any\n",
    "        if columns_to_drop:\n",
    "            df = df.drop(columns_to_drop)\n",
    "            \n",
    "        print(\"\\nAfter loading CSV:\")\n",
    "        clear_memory()\n",
    "        return df\n",
    "        \n",
    "    except Exception as e:\n",
    "        print(f\"Error in data processing: {e}\")\n",
    "        return None\n",
    "\n",
    "# Your schema and column definitions remain the same\n",
    "schema = {\n",
    "    'Year': pl.Int32,\n",
    "    'Month': pl.Int32,\n",
    "    'Day': pl.Int32,\n",
    "    'Crop': pl.Utf8,\n",
    "    'DistrictName': pl.Utf8,\n",
    "    'QueryType': pl.Utf8,\n",
    "    'Season': pl.Utf8,\n",
    "    'Sector': pl.Utf8,\n",
    "    'StateName': pl.Utf8,\n",
    "    'QueryText': pl.Utf8,\n",
    "    'KccAns': pl.Utf8,\n",
    "    'Category': pl.Utf8,\n",
    "    'BlockName': pl.Utf8,\n",
    "    \n",
    "}\n",
    "\n",
    "# Specify columns to drop\n",
    "columns_to_drop = ['BlockName', 'Category']\n",
    "\n",
    "# Load your data\n",
    "master_df = load_data(\n",
    "    file_path='home/manimala/Documents/satyakama/paper-farmer-chatbot/dataset/processed_dataset/India_level_data_filtered.csv',\n",
    "    schema_overrides=schema,\n",
    "    columns_to_drop=columns_to_drop,\n",
    "    low_memory=True\n",
    ")"
   ]
  },
  {
   "cell_type": "code",
   "execution_count": null,
   "metadata": {},
   "outputs": [],
   "source": []
  }
 ],
 "metadata": {
  "kernelspec": {
   "display_name": "rag",
   "language": "python",
   "name": "python3"
  },
  "language_info": {
   "codemirror_mode": {
    "name": "ipython",
    "version": 3
   },
   "file_extension": ".py",
   "mimetype": "text/x-python",
   "name": "python",
   "nbconvert_exporter": "python",
   "pygments_lexer": "ipython3",
   "version": "3.11.11"
  }
 },
 "nbformat": 4,
 "nbformat_minor": 2
}
